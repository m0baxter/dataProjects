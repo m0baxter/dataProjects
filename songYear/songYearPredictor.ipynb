{
 "cells": [
  {
   "cell_type": "markdown",
   "metadata": {},
   "source": [
    "# Year of song predictor"
   ]
  },
  {
   "cell_type": "code",
   "execution_count": 1,
   "metadata": {},
   "outputs": [
    {
     "name": "stderr",
     "output_type": "stream",
     "text": [
      "Using TensorFlow backend.\n"
     ]
    }
   ],
   "source": [
    "import numpy as np\n",
    "import pandas as pd\n",
    "\n",
    "from bayes_opt import BayesianOptimization\n",
    "\n",
    "from sklearn.base import BaseEstimator, TransformerMixin\n",
    "from sklearn.preprocessing import MinMaxScaler\n",
    "from sklearn.pipeline import FeatureUnion, Pipeline\n",
    "from sklearn.model_selection import KFold, train_test_split\n",
    "\n",
    "from keras.models import Sequential\n",
    "from keras.layers import Dense, BatchNormalization, Dropout\n",
    "from keras.callbacks import EarlyStopping, ModelCheckpoint\n",
    "\n",
    "import matplotlib\n",
    "import matplotlib.pyplot as plt\n",
    "%matplotlib inline\n",
    "\n",
    "def plotLosses( losses ):\n",
    "    \"\"\"Plots training loss as a fucntion of epoch.\"\"\"\n",
    "\n",
    "    fig = plt.figure(1, figsize = (18,10))\n",
    "    plt.plot( range(1, len(losses[\"loss\"]) + 1), losses[\"loss\"], \"b-\",\n",
    "              linewidth = 3, label = \"$\\mathrm{training}$\")\n",
    "    plt.plot( range(1, len(losses[\"val_loss\"]) + 1), losses[\"val_loss\"], \"g-\",\n",
    "              linewidth = 3, label = \"$\\mathrm{validation}$\")\n",
    "    plt.ylabel(\"$\\mathrm{Loss}$\")\n",
    "    plt.xlabel(\"$\\mathrm{Epoch}$\")\n",
    "    plt.yscale(\"log\")\n",
    "    plt.legend( loc = \"best\" )\n",
    "\n",
    "    plt.show()\n",
    "\n",
    "    return\n",
    "\n",
    "def convert( params ):\n",
    "    \"\"\"A helper function used in formating a  print statement below.\"\"\"\n",
    "    \n",
    "    return { \"nl\" : int(params[\"nl\"]),\n",
    "             \"nh\" : int(params[\"nh\"]),\n",
    "             \"bs\" : int(params[\"bs\"]),\n",
    "             \"do\" : params[\"do\"] }"
   ]
  },
  {
   "cell_type": "code",
   "execution_count": 2,
   "metadata": {},
   "outputs": [],
   "source": [
    "features = [ \"val\" + str(i) for i in range(1,91) ]\n",
    "target = [\"year\"]\n",
    "header = target + features"
   ]
  },
  {
   "cell_type": "code",
   "execution_count": 3,
   "metadata": {},
   "outputs": [],
   "source": [
    "data = pd.read_csv( \"YearPredictionMSD.txt\", names = header )"
   ]
  },
  {
   "cell_type": "code",
   "execution_count": 4,
   "metadata": {},
   "outputs": [],
   "source": [
    "train = data[:463715]\n",
    "test  = data[463715:]"
   ]
  },
  {
   "cell_type": "code",
   "execution_count": 5,
   "metadata": {},
   "outputs": [
    {
     "data": {
      "text/html": [
       "<div>\n",
       "<style scoped>\n",
       "    .dataframe tbody tr th:only-of-type {\n",
       "        vertical-align: middle;\n",
       "    }\n",
       "\n",
       "    .dataframe tbody tr th {\n",
       "        vertical-align: top;\n",
       "    }\n",
       "\n",
       "    .dataframe thead th {\n",
       "        text-align: right;\n",
       "    }\n",
       "</style>\n",
       "<table border=\"1\" class=\"dataframe\">\n",
       "  <thead>\n",
       "    <tr style=\"text-align: right;\">\n",
       "      <th></th>\n",
       "      <th>year</th>\n",
       "      <th>val1</th>\n",
       "      <th>val2</th>\n",
       "      <th>val3</th>\n",
       "      <th>val4</th>\n",
       "      <th>val5</th>\n",
       "      <th>val6</th>\n",
       "      <th>val7</th>\n",
       "      <th>val8</th>\n",
       "      <th>val9</th>\n",
       "      <th>...</th>\n",
       "      <th>val81</th>\n",
       "      <th>val82</th>\n",
       "      <th>val83</th>\n",
       "      <th>val84</th>\n",
       "      <th>val85</th>\n",
       "      <th>val86</th>\n",
       "      <th>val87</th>\n",
       "      <th>val88</th>\n",
       "      <th>val89</th>\n",
       "      <th>val90</th>\n",
       "    </tr>\n",
       "  </thead>\n",
       "  <tbody>\n",
       "    <tr>\n",
       "      <th>count</th>\n",
       "      <td>463715.000000</td>\n",
       "      <td>463715.000000</td>\n",
       "      <td>463715.000000</td>\n",
       "      <td>463715.000000</td>\n",
       "      <td>463715.000000</td>\n",
       "      <td>463715.000000</td>\n",
       "      <td>463715.000000</td>\n",
       "      <td>463715.000000</td>\n",
       "      <td>463715.000000</td>\n",
       "      <td>463715.000000</td>\n",
       "      <td>...</td>\n",
       "      <td>463715.000000</td>\n",
       "      <td>463715.000000</td>\n",
       "      <td>463715.000000</td>\n",
       "      <td>463715.000000</td>\n",
       "      <td>463715.000000</td>\n",
       "      <td>463715.000000</td>\n",
       "      <td>463715.000000</td>\n",
       "      <td>463715.000000</td>\n",
       "      <td>463715.000000</td>\n",
       "      <td>463715.000000</td>\n",
       "    </tr>\n",
       "    <tr>\n",
       "      <th>mean</th>\n",
       "      <td>1998.386095</td>\n",
       "      <td>43.385488</td>\n",
       "      <td>1.261091</td>\n",
       "      <td>8.650195</td>\n",
       "      <td>1.130763</td>\n",
       "      <td>-6.512725</td>\n",
       "      <td>-9.565527</td>\n",
       "      <td>-2.384609</td>\n",
       "      <td>-1.793722</td>\n",
       "      <td>3.714584</td>\n",
       "      <td>...</td>\n",
       "      <td>15.743361</td>\n",
       "      <td>-73.067753</td>\n",
       "      <td>41.423976</td>\n",
       "      <td>37.780868</td>\n",
       "      <td>0.345259</td>\n",
       "      <td>17.599280</td>\n",
       "      <td>-26.364826</td>\n",
       "      <td>4.444985</td>\n",
       "      <td>19.739307</td>\n",
       "      <td>1.323326</td>\n",
       "    </tr>\n",
       "    <tr>\n",
       "      <th>std</th>\n",
       "      <td>10.939767</td>\n",
       "      <td>6.079139</td>\n",
       "      <td>51.613473</td>\n",
       "      <td>35.264750</td>\n",
       "      <td>16.334672</td>\n",
       "      <td>22.855820</td>\n",
       "      <td>12.836758</td>\n",
       "      <td>14.580245</td>\n",
       "      <td>7.961876</td>\n",
       "      <td>10.579241</td>\n",
       "      <td>...</td>\n",
       "      <td>32.086356</td>\n",
       "      <td>175.376872</td>\n",
       "      <td>121.794610</td>\n",
       "      <td>94.874474</td>\n",
       "      <td>16.153797</td>\n",
       "      <td>114.336522</td>\n",
       "      <td>174.187892</td>\n",
       "      <td>13.320996</td>\n",
       "      <td>184.843503</td>\n",
       "      <td>22.045404</td>\n",
       "    </tr>\n",
       "    <tr>\n",
       "      <th>min</th>\n",
       "      <td>1922.000000</td>\n",
       "      <td>1.749000</td>\n",
       "      <td>-337.092500</td>\n",
       "      <td>-301.005060</td>\n",
       "      <td>-154.183580</td>\n",
       "      <td>-181.953370</td>\n",
       "      <td>-81.794290</td>\n",
       "      <td>-188.214000</td>\n",
       "      <td>-72.503850</td>\n",
       "      <td>-126.479040</td>\n",
       "      <td>...</td>\n",
       "      <td>-437.722030</td>\n",
       "      <td>-4402.376440</td>\n",
       "      <td>-1810.689190</td>\n",
       "      <td>-3098.350310</td>\n",
       "      <td>-341.789120</td>\n",
       "      <td>-3168.924570</td>\n",
       "      <td>-4319.992320</td>\n",
       "      <td>-236.039260</td>\n",
       "      <td>-7458.378150</td>\n",
       "      <td>-318.223330</td>\n",
       "    </tr>\n",
       "    <tr>\n",
       "      <th>25%</th>\n",
       "      <td>1994.000000</td>\n",
       "      <td>39.957540</td>\n",
       "      <td>-26.153810</td>\n",
       "      <td>-11.441920</td>\n",
       "      <td>-8.515155</td>\n",
       "      <td>-20.636960</td>\n",
       "      <td>-18.468705</td>\n",
       "      <td>-10.776340</td>\n",
       "      <td>-6.461400</td>\n",
       "      <td>-2.303600</td>\n",
       "      <td>...</td>\n",
       "      <td>-1.798085</td>\n",
       "      <td>-139.062035</td>\n",
       "      <td>-20.918635</td>\n",
       "      <td>-4.711470</td>\n",
       "      <td>-6.758160</td>\n",
       "      <td>-31.563615</td>\n",
       "      <td>-101.396245</td>\n",
       "      <td>-2.572830</td>\n",
       "      <td>-59.598030</td>\n",
       "      <td>-8.813335</td>\n",
       "    </tr>\n",
       "    <tr>\n",
       "      <th>50%</th>\n",
       "      <td>2002.000000</td>\n",
       "      <td>44.262570</td>\n",
       "      <td>8.371550</td>\n",
       "      <td>10.470520</td>\n",
       "      <td>-0.691610</td>\n",
       "      <td>-5.992740</td>\n",
       "      <td>-11.208850</td>\n",
       "      <td>-2.047850</td>\n",
       "      <td>-1.735440</td>\n",
       "      <td>3.816840</td>\n",
       "      <td>...</td>\n",
       "      <td>9.161360</td>\n",
       "      <td>-52.878010</td>\n",
       "      <td>28.709870</td>\n",
       "      <td>33.494550</td>\n",
       "      <td>0.828350</td>\n",
       "      <td>15.554490</td>\n",
       "      <td>-21.123570</td>\n",
       "      <td>3.111120</td>\n",
       "      <td>7.586950</td>\n",
       "      <td>0.052840</td>\n",
       "    </tr>\n",
       "    <tr>\n",
       "      <th>75%</th>\n",
       "      <td>2006.000000</td>\n",
       "      <td>47.833650</td>\n",
       "      <td>36.143780</td>\n",
       "      <td>29.741165</td>\n",
       "      <td>8.756995</td>\n",
       "      <td>7.749590</td>\n",
       "      <td>-2.422590</td>\n",
       "      <td>6.515710</td>\n",
       "      <td>2.905130</td>\n",
       "      <td>9.950960</td>\n",
       "      <td>...</td>\n",
       "      <td>26.248290</td>\n",
       "      <td>13.620660</td>\n",
       "      <td>89.419995</td>\n",
       "      <td>77.674700</td>\n",
       "      <td>8.495715</td>\n",
       "      <td>67.743725</td>\n",
       "      <td>52.299850</td>\n",
       "      <td>9.948955</td>\n",
       "      <td>86.203115</td>\n",
       "      <td>9.670740</td>\n",
       "    </tr>\n",
       "    <tr>\n",
       "      <th>max</th>\n",
       "      <td>2011.000000</td>\n",
       "      <td>61.970140</td>\n",
       "      <td>384.065730</td>\n",
       "      <td>322.851430</td>\n",
       "      <td>289.527430</td>\n",
       "      <td>262.068870</td>\n",
       "      <td>119.815590</td>\n",
       "      <td>172.402680</td>\n",
       "      <td>105.210280</td>\n",
       "      <td>146.297950</td>\n",
       "      <td>...</td>\n",
       "      <td>840.973380</td>\n",
       "      <td>4469.454870</td>\n",
       "      <td>3210.701700</td>\n",
       "      <td>1672.647100</td>\n",
       "      <td>260.544900</td>\n",
       "      <td>3662.065650</td>\n",
       "      <td>2833.608950</td>\n",
       "      <td>463.419500</td>\n",
       "      <td>7393.398440</td>\n",
       "      <td>600.766240</td>\n",
       "    </tr>\n",
       "  </tbody>\n",
       "</table>\n",
       "<p>8 rows × 91 columns</p>\n",
       "</div>"
      ],
      "text/plain": [
       "                year           val1           val2           val3  \\\n",
       "count  463715.000000  463715.000000  463715.000000  463715.000000   \n",
       "mean     1998.386095      43.385488       1.261091       8.650195   \n",
       "std        10.939767       6.079139      51.613473      35.264750   \n",
       "min      1922.000000       1.749000    -337.092500    -301.005060   \n",
       "25%      1994.000000      39.957540     -26.153810     -11.441920   \n",
       "50%      2002.000000      44.262570       8.371550      10.470520   \n",
       "75%      2006.000000      47.833650      36.143780      29.741165   \n",
       "max      2011.000000      61.970140     384.065730     322.851430   \n",
       "\n",
       "                val4           val5           val6           val7  \\\n",
       "count  463715.000000  463715.000000  463715.000000  463715.000000   \n",
       "mean        1.130763      -6.512725      -9.565527      -2.384609   \n",
       "std        16.334672      22.855820      12.836758      14.580245   \n",
       "min      -154.183580    -181.953370     -81.794290    -188.214000   \n",
       "25%        -8.515155     -20.636960     -18.468705     -10.776340   \n",
       "50%        -0.691610      -5.992740     -11.208850      -2.047850   \n",
       "75%         8.756995       7.749590      -2.422590       6.515710   \n",
       "max       289.527430     262.068870     119.815590     172.402680   \n",
       "\n",
       "                val8           val9      ...                val81  \\\n",
       "count  463715.000000  463715.000000      ...        463715.000000   \n",
       "mean       -1.793722       3.714584      ...            15.743361   \n",
       "std         7.961876      10.579241      ...            32.086356   \n",
       "min       -72.503850    -126.479040      ...          -437.722030   \n",
       "25%        -6.461400      -2.303600      ...            -1.798085   \n",
       "50%        -1.735440       3.816840      ...             9.161360   \n",
       "75%         2.905130       9.950960      ...            26.248290   \n",
       "max       105.210280     146.297950      ...           840.973380   \n",
       "\n",
       "               val82          val83          val84          val85  \\\n",
       "count  463715.000000  463715.000000  463715.000000  463715.000000   \n",
       "mean      -73.067753      41.423976      37.780868       0.345259   \n",
       "std       175.376872     121.794610      94.874474      16.153797   \n",
       "min     -4402.376440   -1810.689190   -3098.350310    -341.789120   \n",
       "25%      -139.062035     -20.918635      -4.711470      -6.758160   \n",
       "50%       -52.878010      28.709870      33.494550       0.828350   \n",
       "75%        13.620660      89.419995      77.674700       8.495715   \n",
       "max      4469.454870    3210.701700    1672.647100     260.544900   \n",
       "\n",
       "               val86          val87          val88          val89  \\\n",
       "count  463715.000000  463715.000000  463715.000000  463715.000000   \n",
       "mean       17.599280     -26.364826       4.444985      19.739307   \n",
       "std       114.336522     174.187892      13.320996     184.843503   \n",
       "min     -3168.924570   -4319.992320    -236.039260   -7458.378150   \n",
       "25%       -31.563615    -101.396245      -2.572830     -59.598030   \n",
       "50%        15.554490     -21.123570       3.111120       7.586950   \n",
       "75%        67.743725      52.299850       9.948955      86.203115   \n",
       "max      3662.065650    2833.608950     463.419500    7393.398440   \n",
       "\n",
       "               val90  \n",
       "count  463715.000000  \n",
       "mean        1.323326  \n",
       "std        22.045404  \n",
       "min      -318.223330  \n",
       "25%        -8.813335  \n",
       "50%         0.052840  \n",
       "75%         9.670740  \n",
       "max       600.766240  \n",
       "\n",
       "[8 rows x 91 columns]"
      ]
     },
     "execution_count": 5,
     "metadata": {},
     "output_type": "execute_result"
    }
   ],
   "source": [
    "train.describe()"
   ]
  },
  {
   "cell_type": "markdown",
   "metadata": {},
   "source": [
    "## Extract the features and scale"
   ]
  },
  {
   "cell_type": "code",
   "execution_count": 6,
   "metadata": {},
   "outputs": [],
   "source": [
    "class DataFrameSelector(BaseEstimator, TransformerMixin):\n",
    "    def __init__(self, attribute_names):\n",
    "        self.attribute_names = attribute_names\n",
    "\n",
    "    def fit(self, X, y=None):\n",
    "        return self\n",
    "\n",
    "    def transform(self, X):\n",
    "        return X[self.attribute_names].values"
   ]
  },
  {
   "cell_type": "code",
   "execution_count": 7,
   "metadata": {},
   "outputs": [],
   "source": [
    "prepTarget   = Pipeline([ (\"select\", DataFrameSelector( target )),\n",
    "                        (\"scale\",  MinMaxScaler()) ])\n",
    "prepFeatures = Pipeline([ (\"select\", DataFrameSelector( features )),\n",
    "                          (\"scale\",  MinMaxScaler()) ])"
   ]
  },
  {
   "cell_type": "code",
   "execution_count": 8,
   "metadata": {},
   "outputs": [
    {
     "name": "stderr",
     "output_type": "stream",
     "text": [
      "/usr/local/lib/python3.5/dist-packages/sklearn/utils/validation.py:475: DataConversionWarning: Data with input dtype int64 was converted to float64 by MinMaxScaler.\n",
      "  warnings.warn(msg, DataConversionWarning)\n"
     ]
    }
   ],
   "source": [
    "prepX = prepFeatures.fit_transform( train )\n",
    "prepY = prepTarget.fit_transform( train )"
   ]
  },
  {
   "cell_type": "markdown",
   "metadata": {},
   "source": [
    "## Define the model and a $L(n_l, n_h, d, N_b)$\n",
    "\n",
    "where $n_l$ is the number of hidden layers (`nl`), $n_h$ is the size of each hidden layer (`nh`), $d$ is the dropout rate (`do`), and $N_b$ is the batch size (`bs`)."
   ]
  },
  {
   "cell_type": "code",
   "execution_count": 9,
   "metadata": {},
   "outputs": [],
   "source": [
    "def genModel( nh = 100, nlayers = 1, dropout = 0.5 ):\n",
    "\n",
    "    model = Sequential()\n",
    "\n",
    "    model.add( Dense(nh, input_shape=(90,), activation = \"elu\" ) )\n",
    "\n",
    "    for _ in range( nlayers - 1):\n",
    "        model.add( BatchNormalization() )\n",
    "        model.add( Dropout( dropout ) )\n",
    "        model.add( Dense(nh, activation = \"elu\" ) )\n",
    "\n",
    "    model.add( BatchNormalization() )\n",
    "    model.add( Dropout( dropout ) )\n",
    "    model.add( Dense(1, activation = \"elu\") )\n",
    "\n",
    "    model.compile( optimizer = \"adam\", loss = \"mse\" )\n",
    "\n",
    "    return model"
   ]
  },
  {
   "cell_type": "code",
   "execution_count": 10,
   "metadata": {},
   "outputs": [],
   "source": [
    "def valLoss( nl, nh, do, bs ): #Maybe change this to train_test_split with test_size = 0.1 to be same as latter.\n",
    "\n",
    "    kf = KFold( n_splits = 3, shuffle = True )\n",
    "    vals = []\n",
    "\n",
    "    for trIndex, teIndex in kf.split( prepX ):\n",
    "\n",
    "        model = genModel( nlayers = int(nl), nh = int(nh), dropout = do )\n",
    "        earlyStoper  = EarlyStopping( patience = 20, verbose = 0 )\n",
    "\n",
    "        hist = model.fit( prepX[trIndex], prepY[trIndex],\n",
    "                          validation_data = (prepX[teIndex], prepY[teIndex]),\n",
    "                          verbose = 0,\n",
    "                          epochs = 5000,\n",
    "                          batch_size = int(bs),\n",
    "                          callbacks = [earlyStoper] )\n",
    "\n",
    "        vals.append( -np.min( hist.history[\"val_loss\"] ) )\n",
    "\n",
    "    return np.mean( vals )"
   ]
  },
  {
   "cell_type": "markdown",
   "metadata": {},
   "source": [
    "## Find best (good) hyperparameter values via Bayesian optimization of $L$"
   ]
  },
  {
   "cell_type": "code",
   "execution_count": 11,
   "metadata": {
    "scrolled": true
   },
   "outputs": [
    {
     "name": "stdout",
     "output_type": "stream",
     "text": [
      "\u001b[31mInitialization\u001b[0m\n",
      "\u001b[94m-----------------------------------------------------------------------------\u001b[0m\n",
      " Step |   Time |      Value |        bs |        do |        nh |        nl | \n",
      "    1 | 04m42s | \u001b[35m  -0.01012\u001b[0m | \u001b[32m1478.4076\u001b[0m | \u001b[32m   0.3859\u001b[0m | \u001b[32m 534.4493\u001b[0m | \u001b[32m   3.8096\u001b[0m | \n",
      "    2 | 153m16s | \u001b[35m  -0.00946\u001b[0m | \u001b[32m 212.3517\u001b[0m | \u001b[32m   0.5221\u001b[0m | \u001b[32m1947.4934\u001b[0m | \u001b[32m   9.2549\u001b[0m | \n",
      "    3 | 00m00s |   -0.01362 |  510.6979 |    0.9439 |  956.8616 |    9.2141 | \n",
      "    4 | 00m00s |   -0.01114 |  301.3994 |    0.0867 | 1386.0430 |   10.7884 | \n",
      "    5 | 00m00s |   -0.01081 |  427.9305 |    0.2439 | 1420.4276 |    4.6085 | \n",
      "    6 | 00m00s |   -0.01191 | 1923.9815 |    0.7209 | 1183.3058 |    7.8390 | \n",
      "    7 | 00m00s |   -0.01512 | 1831.5700 |    0.9431 | 1892.6051 |    5.0795 | \n",
      "    8 | 00m00s |   -0.01020 |  886.0229 |    0.4019 |  206.9575 |    5.2304 | \n",
      "    9 | 00m00s |   -0.01511 | 1247.5726 |    0.9813 |  176.4166 |    7.6927 | \n",
      "   10 | 00m00s |   -0.01061 |  370.6026 |    0.5146 |   43.5769 |    2.1297 | \n",
      "   11 | 00m00s |   -0.01068 |  256.5692 |    0.0496 |  611.2055 |    7.8203 | \n",
      "   12 | 00m00s |   -0.01014 | 2001.9635 |    0.6238 |  210.0338 |    3.7186 | \n",
      "   13 | 00m00s |   -0.01011 |  601.0184 |    0.6035 | 1222.5276 |    7.5421 | \n",
      "   14 | 00m00s |   -0.00951 |   80.9919 |    0.2492 | 1363.8884 |    4.0014 | \n",
      "   15 | 00m00s |   -0.01057 |  618.2628 |    0.4922 | 1519.0627 |    1.6812 | \n",
      "   16 | 00m00s |   -0.01079 |  452.6236 |    0.8038 |  181.2189 |    1.5813 | \n",
      "   17 | 00m00s |   -0.00960 |  397.7445 |    0.8317 | 1623.4587 |    8.6978 | \n",
      "   18 | 00m00s |   -0.01160 | 1947.4694 |    0.7824 | 1210.3486 |    1.0195 | \n",
      "   19 | 00m00s |   -0.01001 |  213.6510 |    0.6044 |  424.2508 |    2.3188 | \n",
      "   20 | 00m00s |   -0.01006 | 1742.6663 |    0.2026 | 1598.8840 |    4.2297 | \n",
      "   21 | 00m00s |   -0.01008 | 1022.8920 |    0.9030 | 1577.0014 |    3.2005 | \n",
      "   22 | 00m00s |   -0.00986 |  670.5342 |    0.8841 | 1607.9821 |    6.6716 | \n",
      "   23 | 00m00s |   -0.01137 |  963.9590 |    0.9340 |  896.9033 |    1.3049 | \n",
      "   24 | 00m00s |   -0.00980 |  161.5915 |    0.2748 |  567.6280 |    2.1802 | \n",
      "   25 | 00m00s |   -0.01060 | 1415.8328 |    0.6430 |  795.4574 |    5.5800 | \n",
      "   26 | 00m00s |   -0.01057 | 1450.0408 |    0.4141 |  868.6849 |    2.4897 | \n",
      "   27 | 00m00s |   -0.00989 | 1317.4942 |    0.7210 |  605.9966 |    6.9754 | \n",
      "   28 | 00m00s |   -0.01075 |  418.8224 |    0.9280 |  284.3839 |    2.7634 | \n",
      "   29 | 00m00s |   -0.01068 | 1788.3568 |    0.4743 |  608.9959 |    7.6095 | \n",
      "   30 | 00m00s |   -0.01066 | 1442.9932 |    0.9642 | 1284.0222 |    2.5495 | \n",
      "   31 | 00m00s |   -0.00993 | 1852.9288 |    0.2871 |  497.2863 |    4.0664 | \n",
      "   32 | 00m00s |   -0.01511 | 1784.0279 |    0.9376 |   82.8451 |    9.7748 | \n",
      "   33 | 00m00s |   -0.00963 |  495.9787 |    0.8100 | 1242.1957 |    5.5459 | \n",
      "   34 | 00m00s |   -0.00994 | 1173.1016 |    0.0133 |  805.0832 |    5.6814 | \n",
      "   35 | 00m00s |   -0.00972 |  700.8530 |    0.6347 |  768.5615 |    9.1541 | \n",
      "   36 | 00m00s |   -0.01029 | 1302.0220 |    0.5121 |  425.7471 |    2.0120 | \n",
      "   37 | 00m00s |   -0.01511 | 1486.4209 |    0.9259 |  241.7853 |    9.1107 | \n",
      "   38 | 00m00s |   -0.00997 |  396.3060 |    0.3017 | 1453.0319 |    8.0096 | \n",
      "   39 | 00m00s |   -0.01152 | 1440.0744 |    0.4856 | 1979.3569 |    9.8765 | \n",
      "   40 | 00m00s |   -0.00984 | 1584.6924 |    0.7502 |  731.3358 |    4.9077 | \n",
      "   41 | 00m00s |   -0.01032 |  568.5676 |    0.3797 | 1220.6025 |    6.4716 | \n",
      "   42 | 00m00s |   -0.01375 | 1688.6322 |    0.8951 |   72.8346 |    4.8298 | \n",
      "   43 | 00m00s |   -0.01033 | 1791.1357 |    0.2387 | 1844.2296 |    6.6526 | \n",
      "   44 | 00m00s |   -0.01518 | 1829.4439 |    0.9404 | 2018.7331 |    7.6384 | \n",
      "   45 | 00m00s |   -0.01136 | 1916.8109 |    0.3973 | 2006.4949 |    1.8987 | \n",
      "   46 | 00m00s | \u001b[35m  -0.00942\u001b[0m | \u001b[32m  85.0077\u001b[0m | \u001b[32m   0.3204\u001b[0m | \u001b[32m 985.3427\u001b[0m | \u001b[32m   3.7807\u001b[0m | \n",
      "   47 | 00m00s |   -0.01109 |   48.0528 |    0.7873 |   17.1876 |    3.3585 | \n",
      "   48 | 00m00s |   -0.01068 |   33.0703 |    0.6835 | 2041.3180 |    1.6013 | \n",
      "   49 | 00m00s |   -0.01101 | 2046.0423 |    0.0546 |  948.0804 |    1.6345 | \n",
      "   50 | 00m00s |   -0.01059 |  724.7953 |    0.2998 | 2037.1637 |    1.0122 | \n",
      "   51 | 00m00s |   -0.01152 | 1183.1561 |    0.9056 | 1470.2728 |    1.0426 | \n",
      "   52 | 00m00s |   -0.01156 |  642.6950 |    0.7798 |   21.6988 |    1.6317 | \n",
      "   53 | 00m00s |   -0.01154 | 2045.1002 |    0.8124 |   31.1815 |    1.4454 | \n",
      "   54 | 00m00s |   -0.01135 | 2046.6540 |    0.2907 | 1573.0851 |    1.2444 | \n",
      "   55 | 00m00s |   -0.01070 |  381.5651 |    0.1347 |  475.4229 |    1.0623 | \n",
      "   56 | 00m00s |   -0.01110 | 2046.8182 |    0.3486 |  429.4421 |    1.0935 | \n",
      "   57 | 00m00s |   -0.01060 |   34.0975 |    0.2745 | 1508.0842 |    1.1395 | \n",
      "   58 | 00m00s |   -0.01060 | 1470.9671 |    0.1653 | 1755.6709 |    1.0031 | \n",
      "   59 | 00m00s |   -0.01063 | 1130.1564 |    0.2600 | 2044.7491 |    1.1860 | \n",
      "   60 | 00m00s |   -0.01077 |  296.0312 |    0.8801 | 1901.6711 |    1.1386 | \n",
      "   61 | 00m00s |   -0.01000 |   33.3569 |    0.6411 |  381.7305 |    2.6598 | \n",
      "   62 | 00m00s |   -0.01158 | 2043.9279 |    0.7955 | 1873.1588 |    1.7224 | \n",
      "   63 | 00m00s |   -0.01083 | 1796.6518 |    0.1297 | 1239.3154 |    1.2345 | \n",
      "   64 | 00m00s |   -0.01052 |  832.0799 |    0.0346 |  442.4100 |    1.2002 | \n",
      "   65 | 00m00s |   -0.01062 |  689.6247 |    0.0088 | 1703.8464 |    1.1439 | \n",
      "   66 | 00m00s |   -0.01054 |  431.7728 |    0.1234 |  931.7534 |    1.3024 | \n",
      "   67 | 00m00s |   -0.01088 | 1082.7199 |    0.3533 |   19.1256 |    1.6991 | \n",
      "   68 | 00m00s |   -0.00959 |   34.1167 |    0.7444 | 1797.0314 |    9.3833 | \n",
      "   69 | 00m00s |   -0.01051 |   43.0077 |    0.9430 | 1259.3557 |    9.7208 | \n",
      "   70 | 00m00s |   -0.01047 |  293.4510 |    0.0131 |   18.5897 |    7.9875 | \n",
      "   71 | 00m00s |   -0.00951 |   32.0821 |    0.1085 |  716.8486 |    9.3821 | \n",
      "   72 | 00m00s |   -0.01151 | 1000.2148 |    0.9138 |  610.0285 |    1.0609 | \n",
      "   73 | 00m00s |   -0.01136 | 1870.4626 |    0.1167 | 1746.4152 |    1.0038 | \n",
      "   74 | 00m00s |   -0.01041 | 2043.6811 |    0.4423 | 2044.5530 |    3.9452 | \n",
      "   75 | 00m00s |   -0.01040 |  385.1989 |    0.3562 | 2047.7154 |    9.9282 | \n",
      "   76 | 00m00s |   -0.01032 | 1030.2285 |    0.0535 | 1880.6376 |    9.8745 | \n",
      "   77 | 00m00s |   -0.01005 |  943.0210 |    0.3830 | 1296.6940 |    9.7586 | \n",
      "   78 | 00m00s |   -0.00963 |  245.0323 |    0.7710 | 1135.9303 |    9.6742 | \n",
      "   79 | 00m00s |   -0.01060 | 1620.6883 |    0.3043 |  489.3553 |    1.0341 | \n",
      "   80 | 00m00s |   -0.01133 |  977.9555 |    0.7921 |  210.9164 |    1.3841 | \n",
      "   81 | 00m00s |   -0.00984 |  213.0744 |    0.8491 |  812.2133 |    9.7884 | \n",
      "   82 | 00m00s |   -0.01101 | 1794.0114 |    0.0047 |  962.5887 |    1.9457 | \n",
      "   83 | 00m00s |   -0.01071 | 1658.6855 |    0.1344 | 1794.6629 |    1.0767 | \n",
      "   84 | 00m00s |   -0.01033 | 1251.6825 |    0.0076 | 1692.9708 |    9.9886 | \n",
      "   85 | 00m00s |   -0.01032 | 1240.5893 |    0.0025 | 1150.8707 |    9.4601 | \n",
      "   86 | 00m00s |   -0.01144 | 1482.8553 |    0.1721 | 1526.2865 |    9.9506 | \n",
      "   87 | 00m00s |   -0.01076 |  548.6817 |    0.0852 | 1870.7905 |    9.8028 | \n",
      "   88 | 00m00s |   -0.01037 |  145.9368 |    0.0460 |  141.0779 |    1.2363 | \n",
      "   89 | 00m00s |   -0.01093 |  926.8781 |    0.2668 | 2045.4640 |    8.7453 | \n",
      "   90 | 00m00s |   -0.01202 | 2046.6767 |    0.1339 | 1368.9727 |    8.9868 | \n",
      "   91 | 00m00s |   -0.01028 |  173.6168 |    0.0121 | 1638.7897 |    9.1547 | \n",
      "   92 | 00m00s |   -0.01154 | 1456.0026 |    0.7055 |   17.3049 |    1.1723 | \n",
      "   93 | 00m00s |   -0.01033 |  812.4735 |    0.0405 | 1450.7678 |    9.2367 | \n",
      "   94 | 00m00s |   -0.01013 |  773.9601 |    0.0758 | 1010.6853 |    9.5781 | \n",
      "   95 | 00m00s |   -0.01115 | 1990.0511 |    0.2016 |  690.8819 |    1.1384 | \n",
      "   96 | 00m00s |   -0.01034 |  161.1424 |    0.0983 | 2046.5101 |   10.9938 | \n",
      "   97 | 00m00s |   -0.01015 | 1285.5382 |    0.0093 | 1890.9778 |   10.9515 | \n",
      "   98 | 00m00s |   -0.01027 |  621.5611 |    0.0501 |  532.3534 |   10.6790 | \n",
      "   99 | 00m00s |   -0.01179 | 1564.1519 |    0.0727 | 1147.0852 |    9.8402 | \n",
      "  100 | 00m00s |   -0.01182 |  867.4122 |    0.8870 |   19.0332 |    1.1494 | \n",
      "  101 | 00m00s |   -0.01048 |  664.9031 |    0.2813 |  261.9423 |    1.0197 | \n",
      "  102 | 00m00s |   -0.01100 | 1982.5205 |    0.1102 | 2029.2071 |   10.3626 | \n",
      "  103 | 00m00s |   -0.01105 |  899.5895 |    0.1109 | 1713.7672 |   10.3769 | \n",
      "  104 | 00m00s |   -0.00996 |  267.6963 |    0.2979 | 1330.2305 |   10.8464 | \n",
      "  105 | 00m00s |   -0.01022 |  493.5481 |    0.9096 |  725.7304 |   10.8022 | \n",
      "  106 | 00m00s |   -0.01081 | 1780.0535 |    0.1258 |  317.6979 |    1.3477 | \n",
      "  107 | 00m00s |   -0.01022 | 1088.9840 |    0.0547 |  440.5903 |   10.0245 | \n",
      "  108 | 00m00s |   -0.00952 |   33.1695 |    0.4041 |  166.9688 |    9.8138 | \n",
      "  109 | 00m00s |   -0.00992 | 1322.3153 |    0.0175 | 2044.1288 |   10.7729 | \n",
      "  110 | 00m00s |   -0.00998 | 1011.6491 |    0.1016 | 1052.9747 |   10.7147 | \n",
      "  111 | 00m00s |   -0.01103 | 1636.9386 |    0.1776 | 1386.5956 |   10.9043 | \n",
      "  112 | 00m00s |   -0.01074 |  815.1112 |    0.0470 | 1200.9564 |   10.5474 | \n",
      "  113 | 00m00s |   -0.01511 |  604.4623 |    0.9491 |  932.9004 |   10.9317 | \n",
      "  114 | 00m00s |   -0.01061 | 1015.1344 |    0.0007 | 1457.7572 |   10.7103 | \n",
      "  115 | 00m00s |   -0.01053 |   32.3025 |    0.3380 |  853.9522 |    1.4097 | \n"
     ]
    },
    {
     "name": "stderr",
     "output_type": "stream",
     "text": [
      "/usr/local/lib/python3.5/dist-packages/sklearn/gaussian_process/gpr.py:457: UserWarning: fmin_l_bfgs_b terminated abnormally with the  state: {'grad': array([-0.00019715]), 'funcalls': 55, 'task': b'ABNORMAL_TERMINATION_IN_LNSRCH', 'nit': 4, 'warnflag': 2}\n",
      "  \" state: %s\" % convergence_dict)\n",
      "/usr/local/lib/python3.5/dist-packages/sklearn/gaussian_process/gpr.py:457: UserWarning: fmin_l_bfgs_b terminated abnormally with the  state: {'grad': array([0.00730039]), 'funcalls': 52, 'task': b'ABNORMAL_TERMINATION_IN_LNSRCH', 'nit': 4, 'warnflag': 2}\n",
      "  \" state: %s\" % convergence_dict)\n",
      "/usr/local/lib/python3.5/dist-packages/sklearn/gaussian_process/gpr.py:335: UserWarning: Predicted variances smaller than 0. Setting those variances to 0.\n",
      "  warnings.warn(\"Predicted variances smaller than 0. \"\n"
     ]
    },
    {
     "name": "stdout",
     "output_type": "stream",
     "text": [
      "\u001b[31mBayesian Optimization\u001b[0m\n",
      "\u001b[94m-----------------------------------------------------------------------------\u001b[0m\n",
      " Step |   Time |      Value |        bs |        do |        nh |        nl | \n",
      "  116 | 168m18s |   -0.01511 |   41.6252 |    0.9443 |  540.9033 |   10.8649 | \n",
      "  117 | 81m23s |   -0.01043 |  133.6115 |    0.2602 |  715.8433 |    1.0032 | \n",
      "  118 | 39m25s |   -0.01069 |  289.7151 |    0.2229 |  963.6562 |   10.7829 | \n"
     ]
    },
    {
     "name": "stderr",
     "output_type": "stream",
     "text": [
      "/usr/local/lib/python3.5/dist-packages/sklearn/gaussian_process/gpr.py:457: UserWarning: fmin_l_bfgs_b terminated abnormally with the  state: {'grad': array([-0.00605251]), 'funcalls': 56, 'task': b'ABNORMAL_TERMINATION_IN_LNSRCH', 'nit': 3, 'warnflag': 2}\n",
      "  \" state: %s\" % convergence_dict)\n"
     ]
    },
    {
     "name": "stdout",
     "output_type": "stream",
     "text": [
      "  119 | 11m39s |   -0.01070 | 1246.0335 |    0.0263 |  967.5438 |    1.4662 | \n",
      "  120 | 20m41s |   -0.01056 |  762.0836 |    0.2761 |  629.3280 |    1.3423 | \n"
     ]
    }
   ],
   "source": [
    "loadData = True\n",
    "\n",
    "params = { \"nl\" : [1, 10.9999],    \"nh\" : [16, 2048.9999],\n",
    "           \"do\" : [0.0, 1.0], \"bs\" : [32, 2048.9999] }\n",
    "\n",
    "opt = BayesianOptimization( valLoss, params )\n",
    "\n",
    "if ( loadData ):\n",
    "    prev = pd.read_csv( \"points.csv\" )\n",
    "    opt.initialize_df( prev )\n",
    "\n",
    "opt.maximize( init_points = 2, n_iter = 5, \n",
    "              acq = \"ucb\", kappa = 2.576 ) #ucb, ei, poi\n",
    "\n",
    "opt.points_to_csv( \"points.csv\" )"
   ]
  },
  {
   "cell_type": "code",
   "execution_count": 12,
   "metadata": {},
   "outputs": [
    {
     "name": "stdout",
     "output_type": "stream",
     "text": [
      "Lowest validation loss: 0.00941884214544744\n",
      "Best parameters found: nl = 3, nh = 985, dropout = 0.32, batchSize = 85\n"
     ]
    }
   ],
   "source": [
    "bestParams = opt.res[\"max\"][\"max_params\"]\n",
    "\n",
    "print( \"Lowest validation loss: {}\".format( -opt.res[\"max\"][\"max_val\"] ) )\n",
    "print( \"Best parameters found: nl = {nl}, nh = {nh}, dropout = {do:1.2f}, batchSize = {bs}\".format(**convert(bestParams)) )"
   ]
  },
  {
   "cell_type": "markdown",
   "metadata": {},
   "source": [
    "## Training/validation split\n",
    "\n",
    "The validation set is chosen to have approximately the same size as the test set."
   ]
  },
  {
   "cell_type": "code",
   "execution_count": 13,
   "metadata": {},
   "outputs": [],
   "source": [
    "xTrain, xVal, yTrain, yVal = train_test_split( prepX, prepY, test_size = 0.1 )"
   ]
  },
  {
   "cell_type": "markdown",
   "metadata": {},
   "source": [
    "## Train the model"
   ]
  },
  {
   "cell_type": "code",
   "execution_count": 14,
   "metadata": {
    "scrolled": true
   },
   "outputs": [
    {
     "name": "stdout",
     "output_type": "stream",
     "text": [
      "_________________________________________________________________\n",
      "Layer (type)                 Output Shape              Param #   \n",
      "=================================================================\n",
      "dense_127 (Dense)            (None, 985)               89635     \n",
      "_________________________________________________________________\n",
      "batch_normalization_106 (Bat (None, 985)               3940      \n",
      "_________________________________________________________________\n",
      "dropout_106 (Dropout)        (None, 985)               0         \n",
      "_________________________________________________________________\n",
      "dense_128 (Dense)            (None, 985)               971210    \n",
      "_________________________________________________________________\n",
      "batch_normalization_107 (Bat (None, 985)               3940      \n",
      "_________________________________________________________________\n",
      "dropout_107 (Dropout)        (None, 985)               0         \n",
      "_________________________________________________________________\n",
      "dense_129 (Dense)            (None, 985)               971210    \n",
      "_________________________________________________________________\n",
      "batch_normalization_108 (Bat (None, 985)               3940      \n",
      "_________________________________________________________________\n",
      "dropout_108 (Dropout)        (None, 985)               0         \n",
      "_________________________________________________________________\n",
      "dense_130 (Dense)            (None, 1)                 986       \n",
      "=================================================================\n",
      "Total params: 2,044,861\n",
      "Trainable params: 2,038,951\n",
      "Non-trainable params: 5,910\n",
      "_________________________________________________________________\n"
     ]
    }
   ],
   "source": [
    "model = genModel( nlayers = int(bestParams[\"nl\"]),\n",
    "                  nh = int(bestParams[\"nh\"]),\n",
    "                  dropout = bestParams[\"do\"] )\n",
    "batchSize = int(bestParams[\"bs\"])\n",
    "\n",
    "model.summary()\n",
    "\n",
    "earlyStoper  = EarlyStopping( patience = 20, verbose = 0 )\n",
    "checkPointer = ModelCheckpoint( filepath = \"best.hdf5\", save_best_only = True, verbose = 0 )\n",
    "\n",
    "hist = model.fit( xTrain, yTrain,\n",
    "                  validation_data = (xVal, yVal),\n",
    "                  epochs = 5000,\n",
    "                  verbose = 0,\n",
    "                  batch_size = batchSize,\n",
    "                  callbacks = [earlyStoper, checkPointer] )"
   ]
  },
  {
   "cell_type": "code",
   "execution_count": 15,
   "metadata": {},
   "outputs": [
    {
     "data": {
      "image/png": "[encoded data removed]",
      "text/plain": [
       "<Figure size 1296x720 with 1 Axes>"
      ]
     },
     "metadata": {},
     "output_type": "display_data"
    }
   ],
   "source": [
    "plotLosses( hist.history )"
   ]
  },
  {
   "cell_type": "markdown",
   "metadata": {},
   "source": [
    "## Evaluate the model on the test set"
   ]
  },
  {
   "cell_type": "code",
   "execution_count": 16,
   "metadata": {},
   "outputs": [],
   "source": [
    "testX = prepFeatures.transform( test )\n",
    "testY = prepTarget.transform( test )"
   ]
  },
  {
   "cell_type": "code",
   "execution_count": 17,
   "metadata": {},
   "outputs": [
    {
     "name": "stdout",
     "output_type": "stream",
     "text": [
      "417343/417343 [==============================] - 21s 51us/step\n",
      "46372/46372 [==============================] - 2s 53us/step\n",
      "51630/51630 [==============================] - 3s 51us/step\n",
      "\n",
      "\n",
      "Training:   0.008745235336033752\n",
      "Validation: 0.009426024753129114\n",
      "Test:       0.009874997105954153\n"
     ]
    }
   ],
   "source": [
    "model.load_weights( \"best.hdf5\" )\n",
    "\n",
    "ltr = model.evaluate( xTrain, yTrain )\n",
    "lvl = model.evaluate( xVal, yVal )\n",
    "lte = model.evaluate( testX, testY )\n",
    "\n",
    "print( \"\\n\" )\n",
    "print( \"Training:   {}\".format(ltr) )\n",
    "print( \"Validation: {}\".format(lvl) )\n",
    "print( \"Test:       {}\".format(lte) )"
   ]
  },
  {
   "cell_type": "code",
   "execution_count": 18,
   "metadata": {},
   "outputs": [
    {
     "name": "stdout",
     "output_type": "stream",
     "text": [
      "\n",
      "\n",
      "Training error:   8.32\n",
      "Validation error: 8.64\n",
      "Test error:       8.84\n"
     ]
    }
   ],
   "source": [
    "errTr = prepTarget.named_steps[\"scale\"].data_range_ * np.sqrt( ltr )\n",
    "errVl = prepTarget.named_steps[\"scale\"].data_range_ * np.sqrt( lvl )\n",
    "errTe = prepTarget.named_steps[\"scale\"].data_range_ * np.sqrt( lte )\n",
    "\n",
    "print( \"\\n\" )\n",
    "print( \"Training error:   {:1.2f}\".format(errTr[0]) )\n",
    "print( \"Validation error: {:1.2f}\".format(errVl[0]) )\n",
    "print( \"Test error:       {:1.2f}\".format(errTe[0]) )"
   ]
  },
  {
   "cell_type": "code",
   "execution_count": null,
   "metadata": {},
   "outputs": [],
   "source": []
  }
 ],
 "metadata": {
  "kernelspec": {
   "display_name": "Python 3",
   "language": "python",
   "name": "python3"
  },
  "language_info": {
   "codemirror_mode": {
    "name": "ipython",
    "version": 3
   },
   "file_extension": ".py",
   "mimetype": "text/x-python",
   "name": "python",
   "nbconvert_exporter": "python",
   "pygments_lexer": "ipython3",
   "version": "3.5.2"
  }
 },
 "nbformat": 4,
 "nbformat_minor": 2
}
